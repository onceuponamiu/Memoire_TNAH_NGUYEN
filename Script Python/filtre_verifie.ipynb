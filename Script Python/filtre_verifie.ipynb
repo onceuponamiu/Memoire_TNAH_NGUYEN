{
  "nbformat": 4,
  "nbformat_minor": 0,
  "metadata": {
    "colab": {
      "provenance": []
    },
    "kernelspec": {
      "name": "python3",
      "display_name": "Python 3"
    },
    "language_info": {
      "name": "python"
    }
  },
  "cells": [
    {
      "cell_type": "code",
      "source": [
        "import os\n",
        "import re\n",
        "import csv\n",
        "\n",
        "# Define the patterns to be filtered out\n",
        "patterns = [\n",
        "    r\"Mme la présidente\",\n",
        "    r\"Mme le présidente\",\n",
        "    r\"M\\. le président\",\n",
        "    r\"Mme le président\",\n",
        "    r\"Mme la président\"\n",
        "]\n",
        "\n",
        "# Compile a regular expression pattern to match any of the target patterns\n",
        "combined_pattern = re.compile(\"|\".join(patterns))\n",
        "\n",
        "# Function to filter lines in a CSV file and remove the 'Date_seances' column\n",
        "def filter_csv(input_file, output_file):\n",
        "    with open(input_file, 'r', encoding='utf-8') as infile, open(output_file, 'w', newline='', encoding='utf-8') as outfile:\n",
        "        reader = csv.DictReader(infile)\n",
        "        # Remove 'Date_seances' from fieldnames if it exists\n",
        "        fieldnames = [field for field in reader.fieldnames if field != 'Date_seances']\n",
        "        writer = csv.DictWriter(outfile, fieldnames=fieldnames)\n",
        "        writer.writeheader()\n",
        "\n",
        "        for row in reader:\n",
        "            # If the line does not match any of the patterns, remove 'Date_seances' and write the row\n",
        "            if not combined_pattern.search(\" \".join(row.values())):\n",
        "                # Remove the 'Date_seances' column from the row\n",
        "                row.pop('Date_seances', None)  # Safely remove the column if it exists\n",
        "                writer.writerow(row)\n",
        "\n",
        "# Function to process all CSV files in a folder\n",
        "def process_csv_files(input_folder, output_folder):\n",
        "    # Ensure the output folder exists\n",
        "    os.makedirs(output_folder, exist_ok=True)\n",
        "\n",
        "    # Check if the input folder exists\n",
        "    if not os.path.exists(input_folder):\n",
        "        print(f\"Error: Input folder '{input_folder}' not found.\")\n",
        "        return  # Exit the function if the folder doesn't exist\n",
        "\n",
        "    for filename in os.listdir(input_folder):\n",
        "        if filename.endswith(\".csv\"):  # Process only CSV files\n",
        "            input_file_path = os.path.join(input_folder, filename)\n",
        "            output_file_path = os.path.join(output_folder, filename)\n",
        "\n",
        "            print(f\"Processing file: {input_file_path}\")\n",
        "            filter_csv(input_file_path, output_file_path)\n",
        "            print(f\"Filtered file saved to: {output_file_path}\")\n",
        "\n",
        "input_folder = 'compte_intervenants_et_pages'\n",
        "output_folder = 'output_cleaned'\n",
        "# Process the files\n",
        "process_csv_files(input_folder, output_folder)\n",
        "\n",
        "print(\"All CSV files have been processed and saved to the output folder.\")\n"
      ],
      "metadata": {
        "colab": {
          "base_uri": "https://localhost:8080/"
        },
        "id": "EBsG7TwOW18f",
        "outputId": "1f19d92f-3cd3-47e2-9bfa-7f3cd38971d3"
      },
      "execution_count": null,
      "outputs": [
        {
          "output_type": "stream",
          "name": "stdout",
          "text": [
            "Processing file: compte_intervenants_et_pages/s20220222.csv\n",
            "Filtered file saved to: output_cleaned/s20220222.csv\n",
            "All CSV files have been processed and saved to the output folder.\n"
          ]
        }
      ]
    },
    {
      "cell_type": "code",
      "source": [
        "import os\n",
        "import re\n",
        "import csv\n",
        "\n",
        "# Define the patterns to be filtered out\n",
        "patterns = [\n",
        "    r\"Mme la présidente\",\n",
        "    r\"Mme le présidente\",\n",
        "    r\"M\\. le président\",\n",
        "    r\"Mme le président\",\n",
        "    r\"Mme la président\"\n",
        "]\n",
        "\n",
        "# Compile a regular expression pattern to match any of the target patterns\n",
        "combined_pattern = re.compile(\"|\".join(patterns))\n",
        "\n",
        "# Function to capitalize only the first letter of each word in the name\n",
        "def format_name(name):\n",
        "    # Remove any leading title like \"M.\" or \"Mme\"\n",
        "    name = re.sub(r'\\b(Mme|M\\.)\\b', '', name).strip()\n",
        "\n",
        "    # Capitalize the first letter of each word\n",
        "    return \" \".join(word.capitalize() for word in name.split())\n",
        "\n",
        "# Function to filter lines in a CSV file and modify 'Nom_intervenants' column\n",
        "def filter_csv(input_file, output_file):\n",
        "    with open(input_file, 'r', encoding='utf-8') as infile, open(output_file, 'w', newline='', encoding='utf-8') as outfile:\n",
        "        reader = csv.DictReader(infile)\n",
        "        # Remove 'Date_seances' from fieldnames if it exists\n",
        "        fieldnames = [field for field in reader.fieldnames if field != 'Date_seances']\n",
        "        writer = csv.DictWriter(outfile, fieldnames=fieldnames)\n",
        "        writer.writeheader()\n",
        "\n",
        "        for row in reader:\n",
        "            # If the line does not match any of the patterns, remove 'Date_seances' and modify 'Nom_intervenants'\n",
        "            if not combined_pattern.search(\" \".join(row.values())):\n",
        "                # Remove the 'Date_seances' column from the row\n",
        "                row.pop('Date_seances', None)  # Safely remove the column if it exists\n",
        "\n",
        "                # Apply name formatting to 'Nom_intervenants'\n",
        "                if 'Nom_intervenants' in row:\n",
        "                    row['Nom_intervenants'] = format_name(row['Nom_intervenants'])\n",
        "\n",
        "                writer.writerow(row)\n",
        "\n",
        "# Function to process all CSV files in a folder\n",
        "def process_csv_files(input_folder, output_folder):\n",
        "    # Ensure the output folder exists\n",
        "    os.makedirs(output_folder, exist_ok=True)\n",
        "\n",
        "    # Check if the input folder exists\n",
        "    if not os.path.exists(input_folder):\n",
        "        print(f\"Error: Input folder '{input_folder}' not found.\")\n",
        "        return  # Exit the function if the folder doesn't exist\n",
        "\n",
        "    for filename in os.listdir(input_folder):\n",
        "        if filename.endswith(\".csv\"):  # Process only CSV files\n",
        "            input_file_path = os.path.join(input_folder, filename)\n",
        "            output_file_path = os.path.join(output_folder, filename)\n",
        "\n",
        "            print(f\"Processing file: {input_file_path}\")\n",
        "            filter_csv(input_file_path, output_file_path)\n",
        "            print(f\"Filtered file saved to: {output_file_path}\")\n",
        "\n",
        "input_folder = 'compte_intervenants_et_pages'\n",
        "output_folder = 'output_cleaned'\n",
        "# Process the files\n",
        "process_csv_files(input_folder, output_folder)\n",
        "\n",
        "print(\"All CSV files have been processed and saved to the output folder.\")\n"
      ],
      "metadata": {
        "colab": {
          "base_uri": "https://localhost:8080/"
        },
        "id": "6irBwu3PHFj8",
        "outputId": "30b17bb2-a8f4-4cfa-d4e2-a56be5243a2d"
      },
      "execution_count": null,
      "outputs": [
        {
          "output_type": "stream",
          "name": "stdout",
          "text": [
            "Processing file: compte_intervenants_et_pages/s20220222.csv\n",
            "Filtered file saved to: output_cleaned/s20220222.csv\n",
            "All CSV files have been processed and saved to the output folder.\n"
          ]
        }
      ]
    }
  ]
}